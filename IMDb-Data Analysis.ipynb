{
 "cells": [
  {
   "cell_type": "code",
   "execution_count": 1,
   "metadata": {},
   "outputs": [],
   "source": [
    "import pandas as pd\n",
    "import numpy as np"
   ]
  },
  {
   "cell_type": "code",
   "execution_count": 2,
   "metadata": {},
   "outputs": [
    {
     "data": {
      "text/html": [
       "<div>\n",
       "<style scoped>\n",
       "    .dataframe tbody tr th:only-of-type {\n",
       "        vertical-align: middle;\n",
       "    }\n",
       "\n",
       "    .dataframe tbody tr th {\n",
       "        vertical-align: top;\n",
       "    }\n",
       "\n",
       "    .dataframe thead th {\n",
       "        text-align: right;\n",
       "    }\n",
       "</style>\n",
       "<table border=\"1\" class=\"dataframe\">\n",
       "  <thead>\n",
       "    <tr style=\"text-align: right;\">\n",
       "      <th></th>\n",
       "      <th>Rank</th>\n",
       "      <th>Title</th>\n",
       "      <th>Year</th>\n",
       "      <th>Certificate</th>\n",
       "      <th>Runtime</th>\n",
       "      <th>Genre</th>\n",
       "      <th>Rating</th>\n",
       "      <th>Metascore</th>\n",
       "      <th>Votes</th>\n",
       "      <th>Gross</th>\n",
       "      <th>URL</th>\n",
       "      <th>Intro</th>\n",
       "    </tr>\n",
       "  </thead>\n",
       "  <tbody>\n",
       "    <tr>\n",
       "      <th>0</th>\n",
       "      <td>1</td>\n",
       "      <td>The Dark Knight</td>\n",
       "      <td>2008</td>\n",
       "      <td>PG-13</td>\n",
       "      <td>152 min</td>\n",
       "      <td>Action, Crime, Drama</td>\n",
       "      <td>9.0</td>\n",
       "      <td>84</td>\n",
       "      <td>2428474</td>\n",
       "      <td>534858444</td>\n",
       "      <td>https://imdb.com/title/tt0468569/</td>\n",
       "      <td>When the menace known as the Joker wreaks havo...</td>\n",
       "    </tr>\n",
       "    <tr>\n",
       "      <th>1</th>\n",
       "      <td>2</td>\n",
       "      <td>The Lord of the Rings: The Return of the King</td>\n",
       "      <td>2003</td>\n",
       "      <td>PG-13</td>\n",
       "      <td>201 min</td>\n",
       "      <td>Action, Adventure, Drama</td>\n",
       "      <td>8.9</td>\n",
       "      <td>94</td>\n",
       "      <td>1715249</td>\n",
       "      <td>377845905</td>\n",
       "      <td>https://imdb.com/title/tt0167260/</td>\n",
       "      <td>Gandalf and Aragorn lead the World of Men agai...</td>\n",
       "    </tr>\n",
       "    <tr>\n",
       "      <th>2</th>\n",
       "      <td>3</td>\n",
       "      <td>Inception</td>\n",
       "      <td>2010</td>\n",
       "      <td>PG-13</td>\n",
       "      <td>148 min</td>\n",
       "      <td>Action, Adventure, Sci-Fi</td>\n",
       "      <td>8.8</td>\n",
       "      <td>74</td>\n",
       "      <td>2179206</td>\n",
       "      <td>292576195</td>\n",
       "      <td>https://imdb.com/title/tt1375666/</td>\n",
       "      <td>A thief who steals corporate secrets through t...</td>\n",
       "    </tr>\n",
       "    <tr>\n",
       "      <th>3</th>\n",
       "      <td>4</td>\n",
       "      <td>The Lord of the Rings: The Fellowship of the Ring</td>\n",
       "      <td>2001</td>\n",
       "      <td>PG-13</td>\n",
       "      <td>178 min</td>\n",
       "      <td>Action, Adventure, Drama</td>\n",
       "      <td>8.8</td>\n",
       "      <td>92</td>\n",
       "      <td>1736538</td>\n",
       "      <td>315544750</td>\n",
       "      <td>https://imdb.com/title/tt0120737/</td>\n",
       "      <td>A meek Hobbit from the Shire and eight compani...</td>\n",
       "    </tr>\n",
       "    <tr>\n",
       "      <th>4</th>\n",
       "      <td>5</td>\n",
       "      <td>The Mountain II</td>\n",
       "      <td>2016</td>\n",
       "      <td></td>\n",
       "      <td>135 min</td>\n",
       "      <td>Action, Drama, War</td>\n",
       "      <td>8.7</td>\n",
       "      <td></td>\n",
       "      <td>106888</td>\n",
       "      <td></td>\n",
       "      <td>https://imdb.com/title/tt5813916/</td>\n",
       "      <td>In a desolate war zone where screams of the in...</td>\n",
       "    </tr>\n",
       "  </tbody>\n",
       "</table>\n",
       "</div>"
      ],
      "text/plain": [
       "   Rank                                              Title  Year Certificate  \\\n",
       "0     1                                    The Dark Knight  2008       PG-13   \n",
       "1     2      The Lord of the Rings: The Return of the King  2003       PG-13   \n",
       "2     3                                          Inception  2010       PG-13   \n",
       "3     4  The Lord of the Rings: The Fellowship of the Ring  2001       PG-13   \n",
       "4     5                                    The Mountain II  2016               \n",
       "\n",
       "   Runtime                      Genre  Rating Metascore    Votes      Gross  \\\n",
       "0  152 min       Action, Crime, Drama     9.0        84  2428474  534858444   \n",
       "1  201 min   Action, Adventure, Drama     8.9        94  1715249  377845905   \n",
       "2  148 min  Action, Adventure, Sci-Fi     8.8        74  2179206  292576195   \n",
       "3  178 min   Action, Adventure, Drama     8.8        92  1736538  315544750   \n",
       "4  135 min         Action, Drama, War     8.7             106888              \n",
       "\n",
       "                                 URL  \\\n",
       "0  https://imdb.com/title/tt0468569/   \n",
       "1  https://imdb.com/title/tt0167260/   \n",
       "2  https://imdb.com/title/tt1375666/   \n",
       "3  https://imdb.com/title/tt0120737/   \n",
       "4  https://imdb.com/title/tt5813916/   \n",
       "\n",
       "                                               Intro  \n",
       "0  When the menace known as the Joker wreaks havo...  \n",
       "1  Gandalf and Aragorn lead the World of Men agai...  \n",
       "2  A thief who steals corporate secrets through t...  \n",
       "3  A meek Hobbit from the Shire and eight compani...  \n",
       "4  In a desolate war zone where screams of the in...  "
      ]
     },
     "execution_count": 2,
     "metadata": {},
     "output_type": "execute_result"
    }
   ],
   "source": [
    "data = pd.read_excel('IMDb_database.xlsx')\n",
    "data.head()"
   ]
  },
  {
   "cell_type": "code",
   "execution_count": 3,
   "metadata": {},
   "outputs": [
    {
     "data": {
      "text/html": [
       "<div>\n",
       "<style scoped>\n",
       "    .dataframe tbody tr th:only-of-type {\n",
       "        vertical-align: middle;\n",
       "    }\n",
       "\n",
       "    .dataframe tbody tr th {\n",
       "        vertical-align: top;\n",
       "    }\n",
       "\n",
       "    .dataframe thead th {\n",
       "        text-align: right;\n",
       "    }\n",
       "</style>\n",
       "<table border=\"1\" class=\"dataframe\">\n",
       "  <thead>\n",
       "    <tr style=\"text-align: right;\">\n",
       "      <th></th>\n",
       "      <th>Rank</th>\n",
       "      <th>Year</th>\n",
       "      <th>Rating</th>\n",
       "      <th>Votes</th>\n",
       "    </tr>\n",
       "  </thead>\n",
       "  <tbody>\n",
       "    <tr>\n",
       "      <th>count</th>\n",
       "      <td>17483.000000</td>\n",
       "      <td>17483.000000</td>\n",
       "      <td>17483.000000</td>\n",
       "      <td>1.748300e+04</td>\n",
       "    </tr>\n",
       "    <tr>\n",
       "      <th>mean</th>\n",
       "      <td>757.889950</td>\n",
       "      <td>2002.676028</td>\n",
       "      <td>6.718286</td>\n",
       "      <td>1.358193e+05</td>\n",
       "    </tr>\n",
       "    <tr>\n",
       "      <th>std</th>\n",
       "      <td>665.311836</td>\n",
       "      <td>15.738938</td>\n",
       "      <td>0.954680</td>\n",
       "      <td>1.830410e+05</td>\n",
       "    </tr>\n",
       "    <tr>\n",
       "      <th>min</th>\n",
       "      <td>1.000000</td>\n",
       "      <td>1920.000000</td>\n",
       "      <td>1.000000</td>\n",
       "      <td>2.501600e+04</td>\n",
       "    </tr>\n",
       "    <tr>\n",
       "      <th>25%</th>\n",
       "      <td>233.000000</td>\n",
       "      <td>1997.000000</td>\n",
       "      <td>6.200000</td>\n",
       "      <td>4.090300e+04</td>\n",
       "    </tr>\n",
       "    <tr>\n",
       "      <th>50%</th>\n",
       "      <td>576.000000</td>\n",
       "      <td>2007.000000</td>\n",
       "      <td>6.800000</td>\n",
       "      <td>7.180000e+04</td>\n",
       "    </tr>\n",
       "    <tr>\n",
       "      <th>75%</th>\n",
       "      <td>1094.000000</td>\n",
       "      <td>2014.000000</td>\n",
       "      <td>7.400000</td>\n",
       "      <td>1.497080e+05</td>\n",
       "    </tr>\n",
       "    <tr>\n",
       "      <th>max</th>\n",
       "      <td>3015.000000</td>\n",
       "      <td>2021.000000</td>\n",
       "      <td>9.300000</td>\n",
       "      <td>2.474457e+06</td>\n",
       "    </tr>\n",
       "  </tbody>\n",
       "</table>\n",
       "</div>"
      ],
      "text/plain": [
       "               Rank          Year        Rating         Votes\n",
       "count  17483.000000  17483.000000  17483.000000  1.748300e+04\n",
       "mean     757.889950   2002.676028      6.718286  1.358193e+05\n",
       "std      665.311836     15.738938      0.954680  1.830410e+05\n",
       "min        1.000000   1920.000000      1.000000  2.501600e+04\n",
       "25%      233.000000   1997.000000      6.200000  4.090300e+04\n",
       "50%      576.000000   2007.000000      6.800000  7.180000e+04\n",
       "75%     1094.000000   2014.000000      7.400000  1.497080e+05\n",
       "max     3015.000000   2021.000000      9.300000  2.474457e+06"
      ]
     },
     "execution_count": 3,
     "metadata": {},
     "output_type": "execute_result"
    }
   ],
   "source": [
    "data.describe()"
   ]
  },
  {
   "cell_type": "code",
   "execution_count": 9,
   "metadata": {},
   "outputs": [
    {
     "data": {
      "text/plain": [
       "True"
      ]
     },
     "execution_count": 9,
     "metadata": {},
     "output_type": "execute_result"
    }
   ],
   "source": [
    "m = data['Metascore'].unique()\n",
    "m[4] == ' '"
   ]
  },
  {
   "cell_type": "code",
   "execution_count": 20,
   "metadata": {},
   "outputs": [],
   "source": [
    "data['Metascore'] = data['Metascore'].replace(' ',np.nan)\n",
    "data['Certificate'] = data['Certificate'].replace(' ',np.nan)\n",
    "data['Gross'] = data['Gross'].replace(' ',np.nan)"
   ]
  },
  {
   "cell_type": "code",
   "execution_count": 21,
   "metadata": {},
   "outputs": [
    {
     "name": "stdout",
     "output_type": "stream",
     "text": [
      "<class 'pandas.core.frame.DataFrame'>\n",
      "RangeIndex: 17483 entries, 0 to 17482\n",
      "Data columns (total 12 columns):\n",
      " #   Column       Non-Null Count  Dtype  \n",
      "---  ------       --------------  -----  \n",
      " 0   Rank         17483 non-null  int64  \n",
      " 1   Title        17483 non-null  object \n",
      " 2   Year         17483 non-null  int64  \n",
      " 3   Certificate  17368 non-null  object \n",
      " 4   Runtime      17483 non-null  object \n",
      " 5   Genre        17483 non-null  object \n",
      " 6   Rating       17483 non-null  float64\n",
      " 7   Metascore    7521 non-null   float64\n",
      " 8   Votes        17483 non-null  int64  \n",
      " 9   Gross        15234 non-null  float64\n",
      " 10  URL          17483 non-null  object \n",
      " 11  Intro        17483 non-null  object \n",
      "dtypes: float64(3), int64(3), object(6)\n",
      "memory usage: 1.6+ MB\n"
     ]
    }
   ],
   "source": [
    "data.info()"
   ]
  },
  {
   "cell_type": "code",
   "execution_count": 25,
   "metadata": {},
   "outputs": [
    {
     "data": {
      "text/html": [
       "<div>\n",
       "<style scoped>\n",
       "    .dataframe tbody tr th:only-of-type {\n",
       "        vertical-align: middle;\n",
       "    }\n",
       "\n",
       "    .dataframe tbody tr th {\n",
       "        vertical-align: top;\n",
       "    }\n",
       "\n",
       "    .dataframe thead th {\n",
       "        text-align: right;\n",
       "    }\n",
       "</style>\n",
       "<table border=\"1\" class=\"dataframe\">\n",
       "  <thead>\n",
       "    <tr style=\"text-align: right;\">\n",
       "      <th></th>\n",
       "      <th>Rank</th>\n",
       "      <th>Year</th>\n",
       "      <th>Rating</th>\n",
       "      <th>Metascore</th>\n",
       "      <th>Votes</th>\n",
       "      <th>Gross</th>\n",
       "    </tr>\n",
       "  </thead>\n",
       "  <tbody>\n",
       "    <tr>\n",
       "      <th>Rank</th>\n",
       "      <td>1.000000</td>\n",
       "      <td>0.195451</td>\n",
       "      <td>-0.544336</td>\n",
       "      <td>-0.277287</td>\n",
       "      <td>-0.265721</td>\n",
       "      <td>-0.142131</td>\n",
       "    </tr>\n",
       "    <tr>\n",
       "      <th>Year</th>\n",
       "      <td>0.195451</td>\n",
       "      <td>1.000000</td>\n",
       "      <td>-0.274793</td>\n",
       "      <td>-0.315174</td>\n",
       "      <td>0.051999</td>\n",
       "      <td>0.124838</td>\n",
       "    </tr>\n",
       "    <tr>\n",
       "      <th>Rating</th>\n",
       "      <td>-0.544336</td>\n",
       "      <td>-0.274793</td>\n",
       "      <td>1.000000</td>\n",
       "      <td>0.526936</td>\n",
       "      <td>0.360469</td>\n",
       "      <td>0.097617</td>\n",
       "    </tr>\n",
       "    <tr>\n",
       "      <th>Metascore</th>\n",
       "      <td>-0.277287</td>\n",
       "      <td>-0.315174</td>\n",
       "      <td>0.526936</td>\n",
       "      <td>1.000000</td>\n",
       "      <td>0.166493</td>\n",
       "      <td>0.017112</td>\n",
       "    </tr>\n",
       "    <tr>\n",
       "      <th>Votes</th>\n",
       "      <td>-0.265721</td>\n",
       "      <td>0.051999</td>\n",
       "      <td>0.360469</td>\n",
       "      <td>0.166493</td>\n",
       "      <td>1.000000</td>\n",
       "      <td>0.588034</td>\n",
       "    </tr>\n",
       "    <tr>\n",
       "      <th>Gross</th>\n",
       "      <td>-0.142131</td>\n",
       "      <td>0.124838</td>\n",
       "      <td>0.097617</td>\n",
       "      <td>0.017112</td>\n",
       "      <td>0.588034</td>\n",
       "      <td>1.000000</td>\n",
       "    </tr>\n",
       "  </tbody>\n",
       "</table>\n",
       "</div>"
      ],
      "text/plain": [
       "               Rank      Year    Rating  Metascore     Votes     Gross\n",
       "Rank       1.000000  0.195451 -0.544336  -0.277287 -0.265721 -0.142131\n",
       "Year       0.195451  1.000000 -0.274793  -0.315174  0.051999  0.124838\n",
       "Rating    -0.544336 -0.274793  1.000000   0.526936  0.360469  0.097617\n",
       "Metascore -0.277287 -0.315174  0.526936   1.000000  0.166493  0.017112\n",
       "Votes     -0.265721  0.051999  0.360469   0.166493  1.000000  0.588034\n",
       "Gross     -0.142131  0.124838  0.097617   0.017112  0.588034  1.000000"
      ]
     },
     "execution_count": 25,
     "metadata": {},
     "output_type": "execute_result"
    }
   ],
   "source": [
    "data.corr(method='pearson')"
   ]
  },
  {
   "cell_type": "code",
   "execution_count": 26,
   "metadata": {},
   "outputs": [
    {
     "data": {
      "text/plain": [
       "array([[<AxesSubplot:title={'center':'Rank'}>,\n",
       "        <AxesSubplot:title={'center':'Year'}>],\n",
       "       [<AxesSubplot:title={'center':'Rating'}>,\n",
       "        <AxesSubplot:title={'center':'Metascore'}>],\n",
       "       [<AxesSubplot:title={'center':'Votes'}>,\n",
       "        <AxesSubplot:title={'center':'Gross'}>]], dtype=object)"
      ]
     },
     "execution_count": 26,
     "metadata": {},
     "output_type": "execute_result"
    },
    {
     "data": {
      "image/png": "[encoded data removed]",
      "text/plain": [
       "<Figure size 432x288 with 6 Axes>"
      ]
     },
     "metadata": {
      "needs_background": "light"
     },
     "output_type": "display_data"
    }
   ],
   "source": [
    "data.hist()"
   ]
  },
  {
   "cell_type": "code",
   "execution_count": null,
   "metadata": {},
   "outputs": [],
   "source": []
  }
 ],
 "metadata": {
  "interpreter": {
   "hash": "90028c94590298b63d2bae6c0746a7e76a66c0c12a099857e1fe16e3285a4618"
  },
  "kernelspec": {
   "display_name": "Python 3.9.6 64-bit",
   "name": "python3"
  },
  "language_info": {
   "codemirror_mode": {
    "name": "ipython",
    "version": 3
   },
   "file_extension": ".py",
   "mimetype": "text/x-python",
   "name": "python",
   "nbconvert_exporter": "python",
   "pygments_lexer": "ipython3",
   "version": "3.9.6"
  },
  "orig_nbformat": 4
 },
 "nbformat": 4,
 "nbformat_minor": 2
}
