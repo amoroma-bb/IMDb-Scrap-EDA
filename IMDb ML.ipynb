{
 "cells": [
  {
   "cell_type": "code",
   "execution_count": 26,
   "metadata": {},
   "outputs": [],
   "source": [
    "import pandas as pd\n",
    "import numpy as np\n",
    "import pickle\n",
    "\n",
    "from matplotlib import pyplot as plt\n",
    "import seaborn as sns\n",
    "\n",
    "from sklearn import linear_model as lm, metrics, tree, ensemble, model_selection as ms, feature_selection, svm\n",
    "from sklearn.preprocessing import StandardScaler\n",
    "from sklearn.model_selection import GridSearchCV\n",
    "\n",
    "%matplotlib inline \n",
    "\n",
    "pd.options.mode.chained_assignment = None \n",
    "\n",
    "np.random.seed(42)\n",
    "\n",
    "import warnings\n",
    "warnings.filterwarnings(\"ignore\")"
   ]
  },
  {
   "cell_type": "code",
   "execution_count": 33,
   "metadata": {},
   "outputs": [],
   "source": [
    "sns.set(rc={\n",
    "    'figure.figsize': (12, 8),\n",
    "    'font.size': 14\n",
    "})\n",
    "\n",
    "# Set palette\n",
    "sns.set_palette(\"husl\")\n",
    "\n",
    "pd.set_option('display.max_columns', 50)\n",
    "pd.set_option('display.max_rows', 5000)"
   ]
  },
  {
   "cell_type": "code",
   "execution_count": 28,
   "metadata": {},
   "outputs": [],
   "source": [
    "data = pd.read_csv('ml_imdb_data.csv')\n",
    "data.drop(columns = data.columns[0],inplace=True)"
   ]
  },
  {
   "cell_type": "code",
   "execution_count": 29,
   "metadata": {},
   "outputs": [],
   "source": [
    "certificates = data['Certificate'].unique()\n",
    "certificates = certificates.tolist()\n",
    "tmp_num = [x for x in range(18)]\n",
    "data['Certificate'] = data['Certificate'].apply(lambda x: int(tmp_num[certificates.index(x)]))"
   ]
  },
  {
   "cell_type": "code",
   "execution_count": 30,
   "metadata": {},
   "outputs": [],
   "source": [
    "metascore_mean = data['Metascore'].mean()\n",
    "data['Metascore'].fillna(value = metascore_mean, inplace= True)\n",
    "gross_mean = data['Gross'].mean()\n",
    "data['Gross'].fillna(value= gross_mean, inplace= True)"
   ]
  },
  {
   "cell_type": "code",
   "execution_count": 31,
   "metadata": {},
   "outputs": [
    {
     "name": "stdout",
     "output_type": "stream",
     "text": [
      "<class 'pandas.core.frame.DataFrame'>\n",
      "RangeIndex: 17483 entries, 0 to 17482\n",
      "Data columns (total 29 columns):\n",
      " #   Column          Non-Null Count  Dtype  \n",
      "---  ------          --------------  -----  \n",
      " 0   Title           17483 non-null  int64  \n",
      " 1   Year            17483 non-null  int64  \n",
      " 2   Certificate     17483 non-null  int64  \n",
      " 3   Rating          17483 non-null  float64\n",
      " 4   Metascore       17483 non-null  float64\n",
      " 5   Votes           17483 non-null  int64  \n",
      " 6   Gross           17483 non-null  float64\n",
      " 7   Movie_time_min  17483 non-null  int64  \n",
      " 8   History         17483 non-null  int64  \n",
      " 9   Biography       17483 non-null  int64  \n",
      " 10  Horror          17483 non-null  int64  \n",
      " 11  Adventure       17483 non-null  int64  \n",
      " 12  Animation       17483 non-null  int64  \n",
      " 13  Sport           17483 non-null  int64  \n",
      " 14  Thriller        17483 non-null  int64  \n",
      " 15  Drama           17483 non-null  int64  \n",
      " 16  Western         17483 non-null  int64  \n",
      " 17  Action          17483 non-null  int64  \n",
      " 18  Mystery         17483 non-null  int64  \n",
      " 19  Music           17483 non-null  int64  \n",
      " 20  Romance         17483 non-null  int64  \n",
      " 21  Film-Noir       17483 non-null  int64  \n",
      " 22  War             17483 non-null  int64  \n",
      " 23  Comedy          17483 non-null  int64  \n",
      " 24  Family          17483 non-null  int64  \n",
      " 25  Musical         17483 non-null  int64  \n",
      " 26  Sci-Fi          17483 non-null  int64  \n",
      " 27  Fantasy         17483 non-null  int64  \n",
      " 28  Crime           17483 non-null  int64  \n",
      "dtypes: float64(3), int64(26)\n",
      "memory usage: 3.9 MB\n"
     ]
    }
   ],
   "source": [
    "data.info()"
   ]
  },
  {
   "cell_type": "code",
   "execution_count": 32,
   "metadata": {},
   "outputs": [
    {
     "data": {
      "text/html": [
       "<div>\n",
       "<style scoped>\n",
       "    .dataframe tbody tr th:only-of-type {\n",
       "        vertical-align: middle;\n",
       "    }\n",
       "\n",
       "    .dataframe tbody tr th {\n",
       "        vertical-align: top;\n",
       "    }\n",
       "\n",
       "    .dataframe thead th {\n",
       "        text-align: right;\n",
       "    }\n",
       "</style>\n",
       "<table border=\"1\" class=\"dataframe\">\n",
       "  <thead>\n",
       "    <tr style=\"text-align: right;\">\n",
       "      <th></th>\n",
       "      <th>Title</th>\n",
       "      <th>Year</th>\n",
       "      <th>Certificate</th>\n",
       "      <th>Rating</th>\n",
       "      <th>Metascore</th>\n",
       "      <th>Votes</th>\n",
       "      <th>Gross</th>\n",
       "      <th>Movie_time_min</th>\n",
       "      <th>History</th>\n",
       "      <th>Biography</th>\n",
       "      <th>Horror</th>\n",
       "      <th>Adventure</th>\n",
       "      <th>Animation</th>\n",
       "      <th>Sport</th>\n",
       "      <th>Thriller</th>\n",
       "      <th>Drama</th>\n",
       "      <th>Western</th>\n",
       "      <th>Action</th>\n",
       "      <th>Mystery</th>\n",
       "      <th>Music</th>\n",
       "      <th>Romance</th>\n",
       "      <th>Film-Noir</th>\n",
       "      <th>War</th>\n",
       "      <th>Comedy</th>\n",
       "      <th>Family</th>\n",
       "      <th>Musical</th>\n",
       "      <th>Sci-Fi</th>\n",
       "      <th>Fantasy</th>\n",
       "      <th>Crime</th>\n",
       "    </tr>\n",
       "  </thead>\n",
       "  <tbody>\n",
       "    <tr>\n",
       "      <th>0</th>\n",
       "      <td>15</td>\n",
       "      <td>2008</td>\n",
       "      <td>0</td>\n",
       "      <td>9.0</td>\n",
       "      <td>84.000000</td>\n",
       "      <td>2428474</td>\n",
       "      <td>5.348584e+08</td>\n",
       "      <td>152</td>\n",
       "      <td>0</td>\n",
       "      <td>0</td>\n",
       "      <td>0</td>\n",
       "      <td>0</td>\n",
       "      <td>0</td>\n",
       "      <td>0</td>\n",
       "      <td>0</td>\n",
       "      <td>1</td>\n",
       "      <td>0</td>\n",
       "      <td>1</td>\n",
       "      <td>0</td>\n",
       "      <td>0</td>\n",
       "      <td>0</td>\n",
       "      <td>0</td>\n",
       "      <td>0</td>\n",
       "      <td>0</td>\n",
       "      <td>0</td>\n",
       "      <td>0</td>\n",
       "      <td>0</td>\n",
       "      <td>0</td>\n",
       "      <td>1</td>\n",
       "    </tr>\n",
       "    <tr>\n",
       "      <th>1</th>\n",
       "      <td>45</td>\n",
       "      <td>2003</td>\n",
       "      <td>0</td>\n",
       "      <td>8.9</td>\n",
       "      <td>94.000000</td>\n",
       "      <td>1715249</td>\n",
       "      <td>3.778459e+08</td>\n",
       "      <td>201</td>\n",
       "      <td>0</td>\n",
       "      <td>0</td>\n",
       "      <td>0</td>\n",
       "      <td>1</td>\n",
       "      <td>0</td>\n",
       "      <td>0</td>\n",
       "      <td>0</td>\n",
       "      <td>1</td>\n",
       "      <td>0</td>\n",
       "      <td>1</td>\n",
       "      <td>0</td>\n",
       "      <td>0</td>\n",
       "      <td>0</td>\n",
       "      <td>0</td>\n",
       "      <td>0</td>\n",
       "      <td>0</td>\n",
       "      <td>0</td>\n",
       "      <td>0</td>\n",
       "      <td>0</td>\n",
       "      <td>0</td>\n",
       "      <td>0</td>\n",
       "    </tr>\n",
       "    <tr>\n",
       "      <th>2</th>\n",
       "      <td>9</td>\n",
       "      <td>2010</td>\n",
       "      <td>0</td>\n",
       "      <td>8.8</td>\n",
       "      <td>74.000000</td>\n",
       "      <td>2179206</td>\n",
       "      <td>2.925762e+08</td>\n",
       "      <td>148</td>\n",
       "      <td>0</td>\n",
       "      <td>0</td>\n",
       "      <td>0</td>\n",
       "      <td>1</td>\n",
       "      <td>0</td>\n",
       "      <td>0</td>\n",
       "      <td>0</td>\n",
       "      <td>0</td>\n",
       "      <td>0</td>\n",
       "      <td>1</td>\n",
       "      <td>0</td>\n",
       "      <td>0</td>\n",
       "      <td>0</td>\n",
       "      <td>0</td>\n",
       "      <td>0</td>\n",
       "      <td>0</td>\n",
       "      <td>0</td>\n",
       "      <td>0</td>\n",
       "      <td>1</td>\n",
       "      <td>0</td>\n",
       "      <td>0</td>\n",
       "    </tr>\n",
       "    <tr>\n",
       "      <th>3</th>\n",
       "      <td>49</td>\n",
       "      <td>2001</td>\n",
       "      <td>0</td>\n",
       "      <td>8.8</td>\n",
       "      <td>92.000000</td>\n",
       "      <td>1736538</td>\n",
       "      <td>3.155448e+08</td>\n",
       "      <td>178</td>\n",
       "      <td>0</td>\n",
       "      <td>0</td>\n",
       "      <td>0</td>\n",
       "      <td>1</td>\n",
       "      <td>0</td>\n",
       "      <td>0</td>\n",
       "      <td>0</td>\n",
       "      <td>1</td>\n",
       "      <td>0</td>\n",
       "      <td>1</td>\n",
       "      <td>0</td>\n",
       "      <td>0</td>\n",
       "      <td>0</td>\n",
       "      <td>0</td>\n",
       "      <td>0</td>\n",
       "      <td>0</td>\n",
       "      <td>0</td>\n",
       "      <td>0</td>\n",
       "      <td>0</td>\n",
       "      <td>0</td>\n",
       "      <td>0</td>\n",
       "    </tr>\n",
       "    <tr>\n",
       "      <th>4</th>\n",
       "      <td>15</td>\n",
       "      <td>2016</td>\n",
       "      <td>1</td>\n",
       "      <td>8.7</td>\n",
       "      <td>73.967558</td>\n",
       "      <td>106888</td>\n",
       "      <td>5.749955e+07</td>\n",
       "      <td>135</td>\n",
       "      <td>0</td>\n",
       "      <td>0</td>\n",
       "      <td>0</td>\n",
       "      <td>0</td>\n",
       "      <td>0</td>\n",
       "      <td>0</td>\n",
       "      <td>0</td>\n",
       "      <td>1</td>\n",
       "      <td>0</td>\n",
       "      <td>1</td>\n",
       "      <td>0</td>\n",
       "      <td>0</td>\n",
       "      <td>0</td>\n",
       "      <td>0</td>\n",
       "      <td>1</td>\n",
       "      <td>0</td>\n",
       "      <td>0</td>\n",
       "      <td>0</td>\n",
       "      <td>0</td>\n",
       "      <td>0</td>\n",
       "      <td>0</td>\n",
       "    </tr>\n",
       "  </tbody>\n",
       "</table>\n",
       "</div>"
      ],
      "text/plain": [
       "   Title  Year  Certificate  Rating  Metascore    Votes         Gross  \\\n",
       "0     15  2008            0     9.0  84.000000  2428474  5.348584e+08   \n",
       "1     45  2003            0     8.9  94.000000  1715249  3.778459e+08   \n",
       "2      9  2010            0     8.8  74.000000  2179206  2.925762e+08   \n",
       "3     49  2001            0     8.8  92.000000  1736538  3.155448e+08   \n",
       "4     15  2016            1     8.7  73.967558   106888  5.749955e+07   \n",
       "\n",
       "   Movie_time_min  History  Biography  Horror  Adventure  Animation  Sport  \\\n",
       "0             152        0          0       0          0          0      0   \n",
       "1             201        0          0       0          1          0      0   \n",
       "2             148        0          0       0          1          0      0   \n",
       "3             178        0          0       0          1          0      0   \n",
       "4             135        0          0       0          0          0      0   \n",
       "\n",
       "   Thriller  Drama  Western  Action  Mystery  Music  Romance  Film-Noir  War  \\\n",
       "0         0      1        0       1        0      0        0          0    0   \n",
       "1         0      1        0       1        0      0        0          0    0   \n",
       "2         0      0        0       1        0      0        0          0    0   \n",
       "3         0      1        0       1        0      0        0          0    0   \n",
       "4         0      1        0       1        0      0        0          0    1   \n",
       "\n",
       "   Comedy  Family  Musical  Sci-Fi  Fantasy  Crime  \n",
       "0       0       0        0       0        0      1  \n",
       "1       0       0        0       0        0      0  \n",
       "2       0       0        0       1        0      0  \n",
       "3       0       0        0       0        0      0  \n",
       "4       0       0        0       0        0      0  "
      ]
     },
     "execution_count": 32,
     "metadata": {},
     "output_type": "execute_result"
    }
   ],
   "source": [
    "data.head()"
   ]
  },
  {
   "cell_type": "code",
   "execution_count": 36,
   "metadata": {},
   "outputs": [
    {
     "data": {
      "text/plain": [
       "Text(0, 0.5, 'Rating')"
      ]
     },
     "execution_count": 36,
     "metadata": {},
     "output_type": "execute_result"
    },
    {
     "data": {
      "image/png": "[encoded data removed]",
      "text/plain": [
       "<Figure size 864x576 with 1 Axes>"
      ]
     },
     "metadata": {},
     "output_type": "display_data"
    }
   ],
   "source": [
    "sns.regplot(x='Gross', y = 'Rating', data = data, color = 'b')\n",
    "plt.title('Gross vs. Rating')\n",
    "plt.xlabel('Gross')\n",
    "plt.ylabel('Rating')"
   ]
  },
  {
   "cell_type": "code",
   "execution_count": 37,
   "metadata": {},
   "outputs": [
    {
     "data": {
      "text/plain": [
       "Text(0, 0.5, 'Rating')"
      ]
     },
     "execution_count": 37,
     "metadata": {},
     "output_type": "execute_result"
    },
    {
     "data": {
      "image/png": "[encoded data removed]",
      "text/plain": [
       "<Figure size 864x576 with 1 Axes>"
      ]
     },
     "metadata": {},
     "output_type": "display_data"
    }
   ],
   "source": [
    "sns.regplot(x='Votes', y = 'Rating', data = data, color = 'g')\n",
    "plt.title('Votes vs. Rating')\n",
    "plt.xlabel('Votes')\n",
    "plt.ylabel('Rating')"
   ]
  },
  {
   "cell_type": "code",
   "execution_count": 38,
   "metadata": {},
   "outputs": [],
   "source": [
    "X = data.drop(['Rating'], axis = 1)\n",
    "y = data.Rating"
   ]
  },
  {
   "cell_type": "code",
   "execution_count": 41,
   "metadata": {},
   "outputs": [
    {
     "name": "stdout",
     "output_type": "stream",
     "text": [
      "Length of training sets: 12238 5245\n",
      "Length of testing sets: 12238 5245\n"
     ]
    }
   ],
   "source": [
    "scaler = StandardScaler()\n",
    "X_train, X_test, y_train, y_test = ms.train_test_split(X, y, test_size=0.3, random_state=42)\n",
    "X_train = pd.DataFrame(scaler.fit_transform(X_train), columns=X.columns)\n",
    "X_test = pd.DataFrame(scaler.transform(X_test), columns=X.columns)\n",
    "print(\"Length of training sets:\",len(X_train), len(X_test))\n",
    "print(\"Length of testing sets:\",len(y_train), len(y_test))"
   ]
  },
  {
   "cell_type": "code",
   "execution_count": 43,
   "metadata": {},
   "outputs": [
    {
     "name": "stdout",
     "output_type": "stream",
     "text": [
      "Baseline score RMSE:  0.95\n"
     ]
    }
   ],
   "source": [
    "y_pred_mean = [y_train.mean()] * len(y_test)\n",
    "print(\"Baseline score RMSE: \",'{0:0.2f}'.format(np.sqrt(metrics.mean_squared_error(y_test, y_pred_mean))))"
   ]
  },
  {
   "cell_type": "code",
   "execution_count": 46,
   "metadata": {},
   "outputs": [],
   "source": [
    "# Function to return simple model metrics\n",
    "def get_model_metrics(X_train, y_train, X_test, y_test, model, parametric=True):\n",
    "    \"\"\"This function takes the train-test splits as arguments, as well as the algorithm \n",
    "    being used, and returns the training score, the test score (both RMSE), the \n",
    "    cross-validated scores and the mean cross-validated score. It also returns the appropriate \n",
    "    feature importances depending on whether the optional argument 'parametric' is equal to \n",
    "    True or False.\"\"\"\n",
    "    \n",
    "    model.fit(X_train, y_train)\n",
    "    train_pred = np.around(model.predict(X_train),1)\n",
    "    test_pred = np.around(model.predict(X_test),1)\n",
    "    \n",
    "    print('Training score', '{0:0.2f}'.format(np.sqrt(metrics.mean_squared_error(y_train, train_pred))))\n",
    "    print('Testing RMSE:', '{0:0.2f}'.format(np.sqrt(metrics.mean_squared_error(y_test, test_pred))))\n",
    "    cv_scores = -ms.cross_val_score(model, X_train, y_train, cv=5, scoring='neg_mean_squared_error')\n",
    "    print('Cross-validated RMSEs:', np.sqrt(cv_scores))\n",
    "    print('Mean cross-validated RMSE:', '{0:0.2f}'.format(np.sqrt(np.mean(cv_scores))))\n",
    "    \n",
    "    if parametric == True:\n",
    "        print(pd.DataFrame(list(zip(X_train.columns, model.coef_, abs(model.coef_))), \n",
    "                 columns=['Feature', 'Coef', 'Abs Coef']).sort_values('Abs Coef', ascending=False).head(10))\n",
    "    else:\n",
    "        print(pd.DataFrame(list(zip(X_train.columns, model.feature_importances_)), \n",
    "                 columns=['Feature', 'Importance']).sort_values('Importance', ascending=False).head(10))\n",
    "    \n",
    "    return model"
   ]
  },
  {
   "cell_type": "code",
   "execution_count": 65,
   "metadata": {},
   "outputs": [],
   "source": [
    "# Function to return regularised model metrics\n",
    "def regularised_model_metrics(X_train, y_train, X_test, y_test, model, grid_params, parametric=True):\n",
    "    \"\"\"This function takes the train-test splits as arguments, as well as the algorithm being \n",
    "    used and the parameters, and returns the best cross-validated training score, the test \n",
    "    score, the best performing model and it's parameters, and the feature importances.\"\"\"\n",
    "    \n",
    "    gridsearch = GridSearchCV(model,\n",
    "                              grid_params,\n",
    "                              n_jobs=-1, cv=5, verbose=1, error_score='raise')\n",
    "    \n",
    "    gridsearch.fit(X_train, y_train)\n",
    "    print('Best parameters:', gridsearch.best_params_)\n",
    "    print('Cross-validated score on test data:', '{0:0.2f}'.format(abs(gridsearch.best_score_)))\n",
    "    best_model = gridsearch.best_estimator_\n",
    "    print('Testing RMSE:', '{0:0.2f}'.format(np.sqrt(metrics.mean_squared_error(y_test, best_model.predict(X_test)))))\n",
    "    \n",
    "    if parametric == True:\n",
    "        print(pd.DataFrame(list(zip(X_train.columns, best_model.coef_, abs(best_model.coef_))), \n",
    "                 columns=['Feature', 'Coef', 'Abs Coef']).sort_values('Abs Coef', ascending=False).head(10))\n",
    "    else:\n",
    "        print(pd.DataFrame(list(zip(X_train.columns, best_model.feature_importances_)), \n",
    "                 columns=['Feature', 'Importance']).sort_values('Importance', ascending=False).head(10))\n",
    "    \n",
    "    return best_model"
   ]
  },
  {
   "cell_type": "code",
   "execution_count": 48,
   "metadata": {},
   "outputs": [
    {
     "name": "stdout",
     "output_type": "stream",
     "text": [
      "Training score 0.71\n",
      "Testing RMSE: 0.72\n",
      "Cross-validated RMSEs: [0.73489996 0.73796347 0.70788727 0.69476109 0.68854527]\n",
      "Mean cross-validated RMSE: 0.71\n",
      "           Feature      Coef  Abs Coef\n",
      "4            Votes  0.388784  0.388784\n",
      "1             Year -0.220900  0.220900\n",
      "6   Movie_time_min  0.186293  0.186293\n",
      "11       Animation  0.172037  0.172037\n",
      "14           Drama  0.154945  0.154945\n",
      "9           Horror -0.112485  0.112485\n",
      "16          Action -0.108984  0.108984\n",
      "2      Certificate  0.103585  0.103585\n",
      "23          Family -0.092098  0.092098\n",
      "5            Gross -0.091351  0.091351\n"
     ]
    },
    {
     "data": {
      "text/plain": [
       "LinearRegression()"
      ]
     },
     "execution_count": 48,
     "metadata": {},
     "output_type": "execute_result"
    }
   ],
   "source": [
    "#Linear Regression Simple\n",
    "\n",
    "lm_simple = get_model_metrics(X_train, y_train, X_test, y_test, lm.LinearRegression())\n",
    "lm_simple"
   ]
  },
  {
   "cell_type": "code",
   "execution_count": 72,
   "metadata": {},
   "outputs": [
    {
     "data": {
      "text/plain": [
       "['alpha',\n",
       " 'copy_X',\n",
       " 'fit_intercept',\n",
       " 'max_iter',\n",
       " 'normalize',\n",
       " 'positive',\n",
       " 'random_state',\n",
       " 'solver',\n",
       " 'tol']"
      ]
     },
     "execution_count": 72,
     "metadata": {},
     "output_type": "execute_result"
    }
   ],
   "source": [
    "ridge = lm.Ridge()\n",
    "list(ridge.get_params())"
   ]
  },
  {
   "cell_type": "code",
   "execution_count": 73,
   "metadata": {},
   "outputs": [
    {
     "name": "stdout",
     "output_type": "stream",
     "text": [
      "Fitting 5 folds for each of 140 candidates, totalling 700 fits\n",
      "Best parameters: {'alpha': 12.915496650148826, 'fit_intercept': True, 'solver': 'sag'}\n",
      "Cross-validated score on test data: 0.44\n",
      "Testing RMSE: 0.72\n",
      "           Feature      Coef  Abs Coef\n",
      "4            Votes  0.388135  0.388135\n",
      "1             Year -0.220731  0.220731\n",
      "6   Movie_time_min  0.186171  0.186171\n",
      "11       Animation  0.171761  0.171761\n",
      "14           Drama  0.155241  0.155241\n",
      "9           Horror -0.112257  0.112257\n",
      "16          Action -0.108935  0.108935\n",
      "2      Certificate  0.103621  0.103621\n",
      "23          Family -0.091791  0.091791\n",
      "5            Gross -0.090748  0.090748\n"
     ]
    }
   ],
   "source": [
    "ridge_params = {'alpha': np.logspace(-10, 10, 10),\n",
    "               'fit_intercept': [True, False],\n",
    "               'solver': ['auto', 'svd', 'cholesky', 'lsqr', 'sparse_cg', 'sag', 'saga']}\n",
    "\n",
    "ridge_model = regularised_model_metrics(X_train, y_train, X_test, y_test, ridge, ridge_params)"
   ]
  },
  {
   "cell_type": "code",
   "execution_count": 74,
   "metadata": {},
   "outputs": [
    {
     "data": {
      "text/plain": [
       "['alpha',\n",
       " 'copy_X',\n",
       " 'fit_intercept',\n",
       " 'max_iter',\n",
       " 'normalize',\n",
       " 'positive',\n",
       " 'precompute',\n",
       " 'random_state',\n",
       " 'selection',\n",
       " 'tol',\n",
       " 'warm_start']"
      ]
     },
     "execution_count": 74,
     "metadata": {},
     "output_type": "execute_result"
    }
   ],
   "source": [
    "lasso = lm.Lasso()\n",
    "list(lasso.get_params())"
   ]
  },
  {
   "cell_type": "code",
   "execution_count": 75,
   "metadata": {},
   "outputs": [
    {
     "name": "stdout",
     "output_type": "stream",
     "text": [
      "Fitting 5 folds for each of 20 candidates, totalling 100 fits\n",
      "Best parameters: {'alpha': 0.0004641588833612782, 'fit_intercept': True}\n",
      "Cross-validated score on test data: 0.44\n",
      "Testing RMSE: 0.72\n",
      "           Feature      Coef  Abs Coef\n",
      "4            Votes  0.388001  0.388001\n",
      "1             Year -0.220771  0.220771\n",
      "6   Movie_time_min  0.185599  0.185599\n",
      "11       Animation  0.172841  0.172841\n",
      "14           Drama  0.158208  0.158208\n",
      "9           Horror -0.109878  0.109878\n",
      "16          Action -0.105991  0.105991\n",
      "2      Certificate  0.103436  0.103436\n",
      "5            Gross -0.090316  0.090316\n",
      "23          Family -0.090247  0.090247\n"
     ]
    }
   ],
   "source": [
    "lasso_params = {'alpha': np.logspace(-10, 10, 10),\n",
    "               'fit_intercept': [True, False]}\n",
    "\n",
    "lasso_model = regularised_model_metrics(X_train, y_train, X_test, y_test, lasso, lasso_params)"
   ]
  },
  {
   "cell_type": "code",
   "execution_count": 57,
   "metadata": {},
   "outputs": [
    {
     "data": {
      "text/plain": [
       "['alpha',\n",
       " 'copy_X',\n",
       " 'fit_intercept',\n",
       " 'l1_ratio',\n",
       " 'max_iter',\n",
       " 'normalize',\n",
       " 'positive',\n",
       " 'precompute',\n",
       " 'random_state',\n",
       " 'selection',\n",
       " 'tol',\n",
       " 'warm_start']"
      ]
     },
     "execution_count": 57,
     "metadata": {},
     "output_type": "execute_result"
    }
   ],
   "source": [
    "elastic = lm.ElasticNet()\n",
    "list(elastic.get_params())"
   ]
  },
  {
   "cell_type": "code",
   "execution_count": 66,
   "metadata": {},
   "outputs": [
    {
     "name": "stdout",
     "output_type": "stream",
     "text": [
      "Fitting 5 folds for each of 200 candidates, totalling 1000 fits\n",
      "Best parameters: {'alpha': 0.0004641588833612782, 'fit_intercept': True, 'l1_ratio': 0.95}\n",
      "Cross-validated score on test data: 0.44\n",
      "Testing RMSE: 0.72\n",
      "           Feature      Coef  Abs Coef\n",
      "4            Votes  0.388025  0.388025\n",
      "1             Year -0.220771  0.220771\n",
      "6   Movie_time_min  0.185629  0.185629\n",
      "11       Animation  0.172793  0.172793\n",
      "14           Drama  0.158045  0.158045\n",
      "9           Horror -0.110005  0.110005\n",
      "16          Action -0.106138  0.106138\n",
      "2      Certificate  0.103444  0.103444\n",
      "5            Gross -0.090356  0.090356\n",
      "23          Family -0.090337  0.090337\n"
     ]
    }
   ],
   "source": [
    "elastic_params = {'alpha': np.logspace(-10, 10, 10),\n",
    "                 'l1_ratio': np.linspace(0.05, 0.95, 10),\n",
    "                 'fit_intercept': [True, False]}\n",
    "\n",
    "elastic_model = regularised_model_metrics(X_train, y_train, X_test, y_test, elastic, \n",
    "                                          elastic_params)"
   ]
  },
  {
   "cell_type": "code",
   "execution_count": 59,
   "metadata": {},
   "outputs": [
    {
     "name": "stdout",
     "output_type": "stream",
     "text": [
      "Training score 0.00\n",
      "Testing RMSE: 0.32\n",
      "Cross-validated RMSEs: [0.41418871 0.40382161 0.40091297 0.39547399 0.35030491]\n",
      "Mean cross-validated RMSE: 0.39\n",
      "           Feature  Importance\n",
      "3        Metascore    0.311300\n",
      "4            Votes    0.156335\n",
      "1             Year    0.111837\n",
      "6   Movie_time_min    0.091369\n",
      "5            Gross    0.073775\n",
      "2      Certificate    0.052936\n",
      "14           Drama    0.051866\n",
      "0            Title    0.047259\n",
      "11       Animation    0.015824\n",
      "27           Crime    0.008859\n"
     ]
    },
    {
     "data": {
      "text/plain": [
       "DecisionTreeRegressor()"
      ]
     },
     "execution_count": 59,
     "metadata": {},
     "output_type": "execute_result"
    }
   ],
   "source": [
    "dt = get_model_metrics(X_train, y_train, X_test, y_test, tree.DecisionTreeRegressor(), \n",
    "                       parametric=False)\n",
    "dt"
   ]
  },
  {
   "cell_type": "code",
   "execution_count": 60,
   "metadata": {},
   "outputs": [
    {
     "name": "stdout",
     "output_type": "stream",
     "text": [
      "Training score 0.10\n",
      "Testing RMSE: 0.27\n",
      "Cross-validated RMSEs: [0.34722879 0.33329252 0.3199476  0.30755815 0.2667292 ]\n",
      "Mean cross-validated RMSE: 0.32\n",
      "           Feature  Importance\n",
      "3        Metascore    0.311667\n",
      "4            Votes    0.144022\n",
      "1             Year    0.111142\n",
      "6   Movie_time_min    0.100723\n",
      "5            Gross    0.079162\n",
      "2      Certificate    0.053572\n",
      "0            Title    0.050338\n",
      "14           Drama    0.042900\n",
      "11       Animation    0.012323\n",
      "16          Action    0.011797\n"
     ]
    },
    {
     "data": {
      "text/plain": [
       "RandomForestRegressor()"
      ]
     },
     "execution_count": 60,
     "metadata": {},
     "output_type": "execute_result"
    }
   ],
   "source": [
    "rf = get_model_metrics(X_train, y_train, X_test, y_test, ensemble.RandomForestRegressor(), \n",
    "                       parametric=False)\n",
    "rf"
   ]
  },
  {
   "cell_type": "code",
   "execution_count": 61,
   "metadata": {},
   "outputs": [
    {
     "data": {
      "text/plain": [
       "['bootstrap',\n",
       " 'ccp_alpha',\n",
       " 'criterion',\n",
       " 'max_depth',\n",
       " 'max_features',\n",
       " 'max_leaf_nodes',\n",
       " 'max_samples',\n",
       " 'min_impurity_decrease',\n",
       " 'min_samples_leaf',\n",
       " 'min_samples_split',\n",
       " 'min_weight_fraction_leaf',\n",
       " 'n_estimators',\n",
       " 'n_jobs',\n",
       " 'oob_score',\n",
       " 'random_state',\n",
       " 'verbose',\n",
       " 'warm_start']"
      ]
     },
     "execution_count": 61,
     "metadata": {},
     "output_type": "execute_result"
    }
   ],
   "source": [
    "rrf = ensemble.RandomForestRegressor()\n",
    "list(rrf.get_params())"
   ]
  },
  {
   "cell_type": "code",
   "execution_count": 67,
   "metadata": {},
   "outputs": [
    {
     "name": "stdout",
     "output_type": "stream",
     "text": [
      "Fitting 5 folds for each of 150 candidates, totalling 750 fits\n",
      "Best parameters: {'bootstrap': True, 'max_depth': 27.5, 'min_samples_split': 0.01, 'n_estimators': 60}\n",
      "Cross-validated score on test data: 0.66\n",
      "Testing RMSE: 0.56\n",
      "           Feature  Importance\n",
      "3        Metascore    0.461118\n",
      "4            Votes    0.129798\n",
      "1             Year    0.094962\n",
      "6   Movie_time_min    0.079335\n",
      "14           Drama    0.063891\n",
      "2      Certificate    0.051662\n",
      "5            Gross    0.043606\n",
      "0            Title    0.017355\n",
      "11       Animation    0.016827\n",
      "9           Horror    0.007312\n"
     ]
    }
   ],
   "source": [
    "rrf_params = {'bootstrap': [True, False],\n",
    "             'max_depth': np.linspace(5, 50, 5),\n",
    "             'min_samples_split': np.linspace(0.01, 1, 5),\n",
    "             'n_estimators': [40, 50, 60]}\n",
    "\n",
    "rrf_model = regularised_model_metrics(X_train, y_train, X_test, y_test, rrf, rrf_params,\n",
    "                                     parametric=False)"
   ]
  },
  {
   "cell_type": "code",
   "execution_count": 63,
   "metadata": {},
   "outputs": [
    {
     "name": "stdout",
     "output_type": "stream",
     "text": [
      "Training RMSE: 0.12\n",
      "Testing RMSE: 0.29\n",
      "Cross-validated RMSEs: [0.14213199 0.12472986 0.12163268 0.1059772  0.09203547]\n",
      "Mean cross-validated RMSE: 0.12\n"
     ]
    }
   ],
   "source": [
    "bagdt = ensemble.BaggingRegressor()\n",
    "bagdt.fit(X_train, y_train)\n",
    "\n",
    "print('Training RMSE:', '{0:0.2f}'.format(np.sqrt(metrics.mean_squared_error(y_train, bagdt.predict(X_train)))))\n",
    "print('Testing RMSE:', '{0:0.2f}'.format(np.sqrt(metrics.mean_squared_error(y_test, bagdt.predict(X_test)))))\n",
    "cv_scores = -ms.cross_val_score(bagdt, X_train, y_train, cv=5, scoring='neg_mean_squared_error')\n",
    "print('Cross-validated RMSEs:', cv_scores)\n",
    "print('Mean cross-validated RMSE:', '{0:0.2f}'.format(np.mean(cv_scores)))"
   ]
  },
  {
   "cell_type": "code",
   "execution_count": 68,
   "metadata": {},
   "outputs": [
    {
     "name": "stdout",
     "output_type": "stream",
     "text": [
      "Fitting 5 folds for each of 20 candidates, totalling 100 fits\n"
     ]
    },
    {
     "name": "stderr",
     "output_type": "stream",
     "text": [
      "/opt/homebrew/Caskroom/miniforge/base/envs/cenv/lib/python3.9/site-packages/sklearn/svm/_base.py:1206: ConvergenceWarning: Liblinear failed to converge, increase the number of iterations.\n",
      "  warnings.warn(\n",
      "/opt/homebrew/Caskroom/miniforge/base/envs/cenv/lib/python3.9/site-packages/sklearn/svm/_base.py:1206: ConvergenceWarning: Liblinear failed to converge, increase the number of iterations.\n",
      "  warnings.warn(\n",
      "/opt/homebrew/Caskroom/miniforge/base/envs/cenv/lib/python3.9/site-packages/sklearn/svm/_base.py:1206: ConvergenceWarning: Liblinear failed to converge, increase the number of iterations.\n",
      "  warnings.warn(\n",
      "/opt/homebrew/Caskroom/miniforge/base/envs/cenv/lib/python3.9/site-packages/sklearn/svm/_base.py:1206: ConvergenceWarning: Liblinear failed to converge, increase the number of iterations.\n",
      "  warnings.warn(\n",
      "/opt/homebrew/Caskroom/miniforge/base/envs/cenv/lib/python3.9/site-packages/sklearn/svm/_base.py:1206: ConvergenceWarning: Liblinear failed to converge, increase the number of iterations.\n",
      "  warnings.warn(\n",
      "/opt/homebrew/Caskroom/miniforge/base/envs/cenv/lib/python3.9/site-packages/sklearn/svm/_base.py:1206: ConvergenceWarning: Liblinear failed to converge, increase the number of iterations.\n",
      "  warnings.warn(\n",
      "/opt/homebrew/Caskroom/miniforge/base/envs/cenv/lib/python3.9/site-packages/sklearn/svm/_base.py:1206: ConvergenceWarning: Liblinear failed to converge, increase the number of iterations.\n",
      "  warnings.warn(\n",
      "/opt/homebrew/Caskroom/miniforge/base/envs/cenv/lib/python3.9/site-packages/sklearn/svm/_base.py:1206: ConvergenceWarning: Liblinear failed to converge, increase the number of iterations.\n",
      "  warnings.warn(\n",
      "/opt/homebrew/Caskroom/miniforge/base/envs/cenv/lib/python3.9/site-packages/sklearn/svm/_base.py:1206: ConvergenceWarning: Liblinear failed to converge, increase the number of iterations.\n",
      "  warnings.warn(\n",
      "/opt/homebrew/Caskroom/miniforge/base/envs/cenv/lib/python3.9/site-packages/sklearn/svm/_base.py:1206: ConvergenceWarning: Liblinear failed to converge, increase the number of iterations.\n",
      "  warnings.warn(\n",
      "/opt/homebrew/Caskroom/miniforge/base/envs/cenv/lib/python3.9/site-packages/sklearn/svm/_base.py:1206: ConvergenceWarning: Liblinear failed to converge, increase the number of iterations.\n",
      "  warnings.warn(\n",
      "/opt/homebrew/Caskroom/miniforge/base/envs/cenv/lib/python3.9/site-packages/sklearn/svm/_base.py:1206: ConvergenceWarning: Liblinear failed to converge, increase the number of iterations.\n",
      "  warnings.warn(\n",
      "/opt/homebrew/Caskroom/miniforge/base/envs/cenv/lib/python3.9/site-packages/sklearn/svm/_base.py:1206: ConvergenceWarning: Liblinear failed to converge, increase the number of iterations.\n",
      "  warnings.warn(\n",
      "/opt/homebrew/Caskroom/miniforge/base/envs/cenv/lib/python3.9/site-packages/sklearn/svm/_base.py:1206: ConvergenceWarning: Liblinear failed to converge, increase the number of iterations.\n",
      "  warnings.warn(\n",
      "/opt/homebrew/Caskroom/miniforge/base/envs/cenv/lib/python3.9/site-packages/sklearn/svm/_base.py:1206: ConvergenceWarning: Liblinear failed to converge, increase the number of iterations.\n",
      "  warnings.warn(\n",
      "/opt/homebrew/Caskroom/miniforge/base/envs/cenv/lib/python3.9/site-packages/sklearn/svm/_base.py:1206: ConvergenceWarning: Liblinear failed to converge, increase the number of iterations.\n",
      "  warnings.warn(\n",
      "/opt/homebrew/Caskroom/miniforge/base/envs/cenv/lib/python3.9/site-packages/sklearn/svm/_base.py:1206: ConvergenceWarning: Liblinear failed to converge, increase the number of iterations.\n",
      "  warnings.warn(\n",
      "/opt/homebrew/Caskroom/miniforge/base/envs/cenv/lib/python3.9/site-packages/sklearn/svm/_base.py:1206: ConvergenceWarning: Liblinear failed to converge, increase the number of iterations.\n",
      "  warnings.warn(\n",
      "/opt/homebrew/Caskroom/miniforge/base/envs/cenv/lib/python3.9/site-packages/sklearn/svm/_base.py:1206: ConvergenceWarning: Liblinear failed to converge, increase the number of iterations.\n",
      "  warnings.warn(\n",
      "/opt/homebrew/Caskroom/miniforge/base/envs/cenv/lib/python3.9/site-packages/sklearn/svm/_base.py:1206: ConvergenceWarning: Liblinear failed to converge, increase the number of iterations.\n",
      "  warnings.warn(\n",
      "/opt/homebrew/Caskroom/miniforge/base/envs/cenv/lib/python3.9/site-packages/sklearn/svm/_base.py:1206: ConvergenceWarning: Liblinear failed to converge, increase the number of iterations.\n",
      "  warnings.warn(\n",
      "/opt/homebrew/Caskroom/miniforge/base/envs/cenv/lib/python3.9/site-packages/sklearn/svm/_base.py:1206: ConvergenceWarning: Liblinear failed to converge, increase the number of iterations.\n",
      "  warnings.warn(\n",
      "/opt/homebrew/Caskroom/miniforge/base/envs/cenv/lib/python3.9/site-packages/sklearn/svm/_base.py:1206: ConvergenceWarning: Liblinear failed to converge, increase the number of iterations.\n",
      "  warnings.warn(\n",
      "/opt/homebrew/Caskroom/miniforge/base/envs/cenv/lib/python3.9/site-packages/sklearn/svm/_base.py:1206: ConvergenceWarning: Liblinear failed to converge, increase the number of iterations.\n",
      "  warnings.warn(\n",
      "/opt/homebrew/Caskroom/miniforge/base/envs/cenv/lib/python3.9/site-packages/sklearn/svm/_base.py:1206: ConvergenceWarning: Liblinear failed to converge, increase the number of iterations.\n",
      "  warnings.warn(\n",
      "/opt/homebrew/Caskroom/miniforge/base/envs/cenv/lib/python3.9/site-packages/sklearn/svm/_base.py:1206: ConvergenceWarning: Liblinear failed to converge, increase the number of iterations.\n",
      "  warnings.warn(\n",
      "/opt/homebrew/Caskroom/miniforge/base/envs/cenv/lib/python3.9/site-packages/sklearn/svm/_base.py:1206: ConvergenceWarning: Liblinear failed to converge, increase the number of iterations.\n",
      "  warnings.warn(\n",
      "/opt/homebrew/Caskroom/miniforge/base/envs/cenv/lib/python3.9/site-packages/sklearn/svm/_base.py:1206: ConvergenceWarning: Liblinear failed to converge, increase the number of iterations.\n",
      "  warnings.warn(\n",
      "/opt/homebrew/Caskroom/miniforge/base/envs/cenv/lib/python3.9/site-packages/sklearn/svm/_base.py:1206: ConvergenceWarning: Liblinear failed to converge, increase the number of iterations.\n",
      "  warnings.warn(\n",
      "/opt/homebrew/Caskroom/miniforge/base/envs/cenv/lib/python3.9/site-packages/sklearn/svm/_base.py:1206: ConvergenceWarning: Liblinear failed to converge, increase the number of iterations.\n",
      "  warnings.warn(\n",
      "/opt/homebrew/Caskroom/miniforge/base/envs/cenv/lib/python3.9/site-packages/sklearn/svm/_base.py:1206: ConvergenceWarning: Liblinear failed to converge, increase the number of iterations.\n",
      "  warnings.warn(\n",
      "/opt/homebrew/Caskroom/miniforge/base/envs/cenv/lib/python3.9/site-packages/sklearn/svm/_base.py:1206: ConvergenceWarning: Liblinear failed to converge, increase the number of iterations.\n",
      "  warnings.warn(\n",
      "/opt/homebrew/Caskroom/miniforge/base/envs/cenv/lib/python3.9/site-packages/sklearn/svm/_base.py:1206: ConvergenceWarning: Liblinear failed to converge, increase the number of iterations.\n",
      "  warnings.warn(\n",
      "/opt/homebrew/Caskroom/miniforge/base/envs/cenv/lib/python3.9/site-packages/sklearn/svm/_base.py:1206: ConvergenceWarning: Liblinear failed to converge, increase the number of iterations.\n",
      "  warnings.warn(\n",
      "/opt/homebrew/Caskroom/miniforge/base/envs/cenv/lib/python3.9/site-packages/sklearn/svm/_base.py:1206: ConvergenceWarning: Liblinear failed to converge, increase the number of iterations.\n",
      "  warnings.warn(\n",
      "/opt/homebrew/Caskroom/miniforge/base/envs/cenv/lib/python3.9/site-packages/sklearn/svm/_base.py:1206: ConvergenceWarning: Liblinear failed to converge, increase the number of iterations.\n",
      "  warnings.warn(\n",
      "/opt/homebrew/Caskroom/miniforge/base/envs/cenv/lib/python3.9/site-packages/sklearn/svm/_base.py:1206: ConvergenceWarning: Liblinear failed to converge, increase the number of iterations.\n",
      "  warnings.warn(\n",
      "/opt/homebrew/Caskroom/miniforge/base/envs/cenv/lib/python3.9/site-packages/sklearn/svm/_base.py:1206: ConvergenceWarning: Liblinear failed to converge, increase the number of iterations.\n",
      "  warnings.warn(\n",
      "/opt/homebrew/Caskroom/miniforge/base/envs/cenv/lib/python3.9/site-packages/sklearn/svm/_base.py:1206: ConvergenceWarning: Liblinear failed to converge, increase the number of iterations.\n",
      "  warnings.warn(\n",
      "/opt/homebrew/Caskroom/miniforge/base/envs/cenv/lib/python3.9/site-packages/sklearn/svm/_base.py:1206: ConvergenceWarning: Liblinear failed to converge, increase the number of iterations.\n",
      "  warnings.warn(\n",
      "/opt/homebrew/Caskroom/miniforge/base/envs/cenv/lib/python3.9/site-packages/sklearn/svm/_base.py:1206: ConvergenceWarning: Liblinear failed to converge, increase the number of iterations.\n",
      "  warnings.warn(\n",
      "/opt/homebrew/Caskroom/miniforge/base/envs/cenv/lib/python3.9/site-packages/sklearn/svm/_base.py:1206: ConvergenceWarning: Liblinear failed to converge, increase the number of iterations.\n",
      "  warnings.warn(\n",
      "/opt/homebrew/Caskroom/miniforge/base/envs/cenv/lib/python3.9/site-packages/sklearn/svm/_base.py:1206: ConvergenceWarning: Liblinear failed to converge, increase the number of iterations.\n",
      "  warnings.warn(\n",
      "/opt/homebrew/Caskroom/miniforge/base/envs/cenv/lib/python3.9/site-packages/sklearn/svm/_base.py:1206: ConvergenceWarning: Liblinear failed to converge, increase the number of iterations.\n",
      "  warnings.warn(\n",
      "/opt/homebrew/Caskroom/miniforge/base/envs/cenv/lib/python3.9/site-packages/sklearn/svm/_base.py:1206: ConvergenceWarning: Liblinear failed to converge, increase the number of iterations.\n",
      "  warnings.warn(\n"
     ]
    },
    {
     "name": "stdout",
     "output_type": "stream",
     "text": [
      "Best parameters: {'C': 0.31622776601683794, 'fit_intercept': True, 'loss': 'squared_epsilon_insensitive', 'max_iter': 1000}\n",
      "Cross-validated score on test data: 0.44\n",
      "Testing RMSE: 0.72\n",
      "           Feature      Coef  Abs Coef\n",
      "4            Votes  0.388762  0.388762\n",
      "1             Year -0.220858  0.220858\n",
      "6   Movie_time_min  0.186255  0.186255\n",
      "11       Animation  0.172003  0.172003\n",
      "14           Drama  0.154948  0.154948\n",
      "9           Horror -0.112464  0.112464\n",
      "16          Action -0.108963  0.108963\n",
      "2      Certificate  0.103585  0.103585\n",
      "23          Family -0.092071  0.092071\n",
      "5            Gross -0.091306  0.091306\n"
     ]
    }
   ],
   "source": [
    "lin = svm.LinearSVR() \n",
    "\n",
    "lin_params = {\n",
    "    'C': np.logspace(-3, 2, 5),\n",
    "    'loss': ['epsilon_insensitive','squared_epsilon_insensitive'],\n",
    "    'fit_intercept': [True,False],\n",
    "    'max_iter': [1000]\n",
    "}\n",
    "\n",
    "lin_model = regularised_model_metrics(X_train, y_train, X_test, y_test, lin, lin_params)"
   ]
  },
  {
   "cell_type": "code",
   "execution_count": 70,
   "metadata": {},
   "outputs": [
    {
     "name": "stdout",
     "output_type": "stream",
     "text": [
      "Fitting 5 folds for each of 25 candidates, totalling 125 fits\n",
      "Best parameters: {'C': 31.622776601683793, 'gamma': 0.5623413251903491, 'kernel': 'rbf'}\n",
      "Cross-validated Training RMSE: 0.83\n",
      "Testing RMSE: 0.32\n"
     ]
    }
   ],
   "source": [
    "rbf = svm.SVR(kernel='rbf')\n",
    "\n",
    "rbf_params = {\n",
    "    'C': np.logspace(-3, 3, 5),\n",
    "    'gamma': np.logspace(-4, 1, 5),\n",
    "    'kernel': ['rbf']}\n",
    "\n",
    "rbf = GridSearchCV(rbf, rbf_params, n_jobs=-1, cv=5, verbose=1, error_score='raise')\n",
    "rbf.fit(X_train, y_train)\n",
    "print('Best parameters:', rbf.best_params_)\n",
    "print('Cross-validated Training RMSE:', '{0:0.2f}'.format(abs(rbf.best_score_)))\n",
    "print('Testing RMSE:', '{0:0.2f}'.format(np.sqrt(metrics.mean_squared_error(y_test, rbf.best_estimator_.predict(X_test)))))\n"
   ]
  },
  {
   "cell_type": "code",
   "execution_count": 77,
   "metadata": {},
   "outputs": [
    {
     "data": {
      "text/plain": [
       "SVR(C=1, gamma=0.1, kernel='poly')"
      ]
     },
     "execution_count": 77,
     "metadata": {},
     "output_type": "execute_result"
    }
   ],
   "source": [
    "poly = svm.SVR(kernel='poly', C = 1, gamma = 0.1)\n",
    "\n",
    "poly.fit(X_train,y_train)\n"
   ]
  },
  {
   "cell_type": "code",
   "execution_count": 79,
   "metadata": {},
   "outputs": [],
   "source": [
    "pred = poly.predict(X_test)"
   ]
  },
  {
   "cell_type": "code",
   "execution_count": 86,
   "metadata": {},
   "outputs": [
    {
     "name": "stdout",
     "output_type": "stream",
     "text": [
      "R-squared: 0.6893435675879827\n",
      "MSE: 0.3910171284215583\n"
     ]
    }
   ],
   "source": [
    "score = poly.score(X_train,y_train)\n",
    "print('R-squared:', score)\n",
    "print('MSE:', metrics.mean_squared_error(y_test, pred))"
   ]
  },
  {
   "cell_type": "code",
   "execution_count": null,
   "metadata": {},
   "outputs": [],
   "source": []
  }
 ],
 "metadata": {
  "interpreter": {
   "hash": "c6e4e9f98eb68ad3b7c296f83d20e6de614cb42e90992a65aa266555a3137d0d"
  },
  "kernelspec": {
   "display_name": "Python 3.9.7 64-bit ('base': conda)",
   "language": "python",
   "name": "python3"
  },
  "language_info": {
   "codemirror_mode": {
    "name": "ipython",
    "version": 3
   },
   "file_extension": ".py",
   "mimetype": "text/x-python",
   "name": "python",
   "nbconvert_exporter": "python",
   "pygments_lexer": "ipython3",
   "version": "3.9.7"
  },
  "orig_nbformat": 4
 },
 "nbformat": 4,
 "nbformat_minor": 2
}
