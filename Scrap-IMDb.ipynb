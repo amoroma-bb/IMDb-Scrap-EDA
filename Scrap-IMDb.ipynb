{
 "cells": [
  {
   "cell_type": "code",
   "execution_count": 1,
   "metadata": {},
   "outputs": [],
   "source": [
    "import requests\n",
    "from bs4 import BeautifulSoup\n",
    "import time\n",
    "import openpyxl"
   ]
  },
  {
   "cell_type": "code",
   "execution_count": 3,
   "metadata": {},
   "outputs": [
    {
     "data": {
      "text/plain": [
       "200"
      ]
     },
     "execution_count": 3,
     "metadata": {},
     "output_type": "execute_result"
    }
   ],
   "source": [
    "# The url of IMDb top rated movies\n",
    "url = 'https://www.imdb.com/chart/top/?ref_=nv_mv_250'\n",
    "main_page = requests.get(url)\n",
    "main_page.status_code"
   ]
  },
  {
   "cell_type": "code",
   "execution_count": 4,
   "metadata": {},
   "outputs": [
    {
     "data": {
      "text/plain": [
       "('Action',\n",
       " 'https://imdb.com/search/title?genres=action&sort=user_rating,desc&title_type=feature&num_votes=25000,')"
      ]
     },
     "execution_count": 4,
     "metadata": {},
     "output_type": "execute_result"
    }
   ],
   "source": [
    "# html parser method\n",
    "soup = BeautifulSoup(main_page.content, 'html.parser')\n",
    "links = soup.find('ul', class_='quicklinks').find_all('li')\n",
    "\n",
    "genre_urls = []\n",
    "\n",
    "# get all genres urls\n",
    "for i in range(len(links)):\n",
    "    genre = links[i].find('a').get_text().split()[0]\n",
    "    url = 'https://imdb.com' + links[i].find('a',href = True)['href']\n",
    "    genre_urls.append((genre, url))\n",
    "\n",
    "genre_urls[0]"
   ]
  },
  {
   "cell_type": "code",
   "execution_count": 5,
   "metadata": {},
   "outputs": [
    {
     "data": {
      "text/plain": [
       "200"
      ]
     },
     "execution_count": 5,
     "metadata": {},
     "output_type": "execute_result"
    }
   ],
   "source": [
    "# Example of action genre\n",
    "action_url = genre_urls[0][1]\n",
    "action = requests.get(action_url)\n",
    "action.status_code\n"
   ]
  },
  {
   "cell_type": "code",
   "execution_count": 6,
   "metadata": {},
   "outputs": [
    {
     "data": {
      "text/plain": [
       "5"
      ]
     },
     "execution_count": 6,
     "metadata": {},
     "output_type": "execute_result"
    }
   ],
   "source": [
    "# Example of action genre 1st page \n",
    "# Scrap the information about the first movie\n",
    "\n",
    "info = []\n",
    "index = 4\n",
    "\n",
    "action_soup = BeautifulSoup(action.content, 'html.parser')\n",
    "action_moives = action_soup.find('div', class_='lister-list').find_all(class_='lister-item mode-advanced')\n",
    "rank = int(''.join(action_moives[index].find(class_='lister-item-content').find('span', class_='lister-item-index unbold text-primary').get_text()[:-1].split(',')))\n",
    "title = action_moives[index].find(class_='lister-item-content').find('a').get_text()\n",
    "year = int(action_moives[index].find(class_='lister-item-content').find('span', class_='lister-item-year text-muted unbold').get_text()[-5:-1])\n",
    "Certificate = action_moives[index].find(class_='lister-item-content').find('p', class_='text-muted').find('span',class_='certificate')\n",
    "if not Certificate:\n",
    "    certificate = ' '\n",
    "else:\n",
    "    certificate = Certificate.get_text()\n",
    "runtime = action_moives[index].find(class_='lister-item-content').find('span', class_='runtime').get_text()\n",
    "genre = action_moives[index].find(class_='lister-item-content').find('span', class_='genre').get_text().rstrip()[1:]\n",
    "rating = float(action_moives[index].find(class_='lister-item-content').find('strong').get_text())\n",
    "Metascore = action_moives[index].find(class_='lister-item-content').find('span', class_='metascore favorable')\n",
    "if not Metascore:\n",
    "    metascore = ' '\n",
    "else:\n",
    "    metascore = int(Metascore.get_text().rstrip())\n",
    "intro = action_moives[index].find(class_='lister-item-content').find_all('p', class_='text-muted')[1].get_text()[1:]\n",
    "votes = int(action_moives[index].find(class_='lister-item-content').find('p', class_= 'sort-num_votes-visible').find_all('span')[1]['data-value'])\n",
    "Gross = len(action_moives[index].find(class_='lister-item-content').find('p', class_= 'sort-num_votes-visible').find_all('span'))\n",
    "if Gross == 5:\n",
    "    gross = int(''.join(action_moives[index].find(class_='lister-item-content').find('p', class_= 'sort-num_votes-visible').find_all('span')[-1]['data-value'].split(',')))\n",
    "else:\n",
    "    gross = ' '\n",
    "URL = 'https://imdb.com'+action_moives[index].find(class_='lister-item-content').find('h3', class_='lister-item-header').find('a', href = True, text=True)['href']\n",
    "\n",
    "info = [rank, title, year, certificate, runtime, genre, rating, metascore, votes, gross, URL, intro]\n",
    "\n",
    "rank\n",
    "\n"
   ]
  },
  {
   "cell_type": "code",
   "execution_count": 7,
   "metadata": {},
   "outputs": [],
   "source": [
    "excel = openpyxl.Workbook()\n",
    "sheet = excel.active\n",
    "sheet.title = 'IMDb Movies Database'\n",
    "sheet.append(['Rank', 'Title', 'Year', 'Certificate', 'Runtime', 'Genre', 'Rating', 'Metascore', 'Votes', 'Gross', 'URL', 'Intro'])\n",
    "sheet.append([rank, title, year, certificate, runtime, genre, rating, metascore, votes, gross, URL, intro])\n",
    "\n",
    "excel.save('IMDb_example1.xlsx')"
   ]
  },
  {
   "cell_type": "code",
   "execution_count": 8,
   "metadata": {},
   "outputs": [
    {
     "data": {
      "text/plain": [
       "'https://imdb.com/search/title/?title_type=feature&num_votes=25000,&genres=action&sort=user_rating,desc&start=1550'"
      ]
     },
     "execution_count": 8,
     "metadata": {},
     "output_type": "execute_result"
    }
   ],
   "source": [
    "# Scrap the Action genre movies\n",
    "# Get the next page url\n",
    "\n",
    "last2_url ='https://www.imdb.com/search/title/?title_type=feature&num_votes=25000,&genres=action&sort=user_rating,desc&start=1500&ref_=adv_prv'\n",
    "last2 = requests.get(last2_url)\n",
    "last2_soup = BeautifulSoup(last2.content, 'html.parser')\n",
    "page = last2_soup.find('div', class_='redesign').find_all(class_='desc')[0].find('a', class_='lister-page-next next-page') or 0\n",
    "if not page:\n",
    "    next_page = ''\n",
    "else:\n",
    "    next_page = 'https://imdb.com'+last2_soup.find('div', class_='redesign').find_all(class_='desc')[0].find('a', class_='lister-page-next next-page')['href']\n",
    "next_page"
   ]
  },
  {
   "cell_type": "code",
   "execution_count": 9,
   "metadata": {},
   "outputs": [],
   "source": [
    "def get_info(url):\n",
    "    excel = openpyxl.Workbook()\n",
    "    sheet = excel.active\n",
    "    sheet.title = 'IMDb Movies Database'\n",
    "    sheet.append(['Rank', 'Title', 'Year', 'Certificate', 'Runtime', 'Genre', 'Rating', 'Metascore', 'Votes', 'Gross', 'URL', 'Intro'])\n",
    "    \n",
    "    url_request = requests.get(url)\n",
    "    soup = BeautifulSoup(url_request.content, 'html.parser')\n",
    "    movies = soup.find('div', class_='lister-list').find_all(class_='lister-item mode-advanced')\n",
    "\n",
    "    for index in range(len(movies)):\n",
    "        rank = int(action_moives[index].find(class_='lister-item-content').find('span', class_='lister-item-index unbold text-primary').get_text()[:-1])\n",
    "        title = action_moives[index].find(class_='lister-item-content').find('a').get_text()\n",
    "        year = int(action_moives[index].find(class_='lister-item-content').find('span', class_='lister-item-year text-muted unbold').get_text()[-5:-1])\n",
    "        print(title)\n",
    "        Certificate = action_moives[index].find(class_='lister-item-content').find('p', class_='text-muted').find('span',class_='certificate')\n",
    "        if not Certificate:\n",
    "            certificate = ' '\n",
    "        else:\n",
    "            certificate = Certificate.get_text()\n",
    "        runtime = action_moives[index].find(class_='lister-item-content').find('span', class_='runtime').get_text()\n",
    "        genre = action_moives[index].find(class_='lister-item-content').find('span', class_='genre').get_text().rstrip()[1:]\n",
    "        rating = float(action_moives[index].find(class_='lister-item-content').find('strong').get_text())\n",
    "        Metascore = action_moives[index].find(class_='lister-item-content').find('span', class_='metascore favorable')\n",
    "        if not Metascore:\n",
    "            metascore = ' '\n",
    "        else:\n",
    "            metascore = int(Metascore.get_text().rstrip())\n",
    "        intro = action_moives[index].find(class_='lister-item-content').find_all('p', class_='text-muted')[1].get_text()[1:]\n",
    "        votes = int(action_moives[index].find(class_='lister-item-content').find('p', class_= 'sort-num_votes-visible').find_all('span')[1]['data-value'])\n",
    "        Gross = len(action_moives[index].find(class_='lister-item-content').find('p', class_= 'sort-num_votes-visible').find_all('span'))\n",
    "        if Gross == 5:\n",
    "            gross = int(''.join(action_moives[index].find(class_='lister-item-content').find('p', class_= 'sort-num_votes-visible').find_all('span')[-1]['data-value'].split(',')))\n",
    "        else:\n",
    "            gross = ' '\n",
    "        URL = 'https://imdb.com'+action_moives[index].find(class_='lister-item-content').find('h3', class_='lister-item-header').find('a', href = True, text=True)['href']\n",
    "        sheet.append([rank, title, year, certificate, runtime, genre, rating, metascore, votes, gross, URL, intro])\n",
    "    excel.save('IMDB_example2.xlsx')\n",
    "\n"
   ]
  },
  {
   "cell_type": "code",
   "execution_count": 10,
   "metadata": {},
   "outputs": [
    {
     "data": {
      "text/plain": [
       "50"
      ]
     },
     "execution_count": 10,
     "metadata": {},
     "output_type": "execute_result"
    }
   ],
   "source": [
    "url_request = requests.get(genre_urls[0][1])\n",
    "soup = BeautifulSoup(url_request.content, 'html.parser')\n",
    "movies = soup.find('div', class_='lister-list').find_all(class_='lister-item mode-advanced')\n",
    "len(movies)\n"
   ]
  },
  {
   "cell_type": "code",
   "execution_count": 14,
   "metadata": {},
   "outputs": [],
   "source": [
    "def scrap(url):\n",
    "    excel = openpyxl.load_workbook('IMDb_database.xlsx')\n",
    "    sheet = excel.active\n",
    "\n",
    " \n",
    "    while url != 0:\n",
    "        url_request = requests.get(url)\n",
    "        url_soup = BeautifulSoup(url_request.content, 'html.parser')\n",
    "        movies = url_soup.find('div', class_='lister-list').find_all(class_='lister-item mode-advanced')\n",
    "        print(url)\n",
    "        for index in range(len(movies)):\n",
    "            rank = int(''.join(movies[index].find(class_='lister-item-content').find('span', class_='lister-item-index unbold text-primary').get_text()[:-1].split(',')))\n",
    "            title = movies[index].find(class_='lister-item-content').find('a').get_text()\n",
    "            year = int(movies[index].find(class_='lister-item-content').find('span', class_='lister-item-year text-muted unbold').get_text()[-5:-1])\n",
    "            Certificate = movies[index].find(class_='lister-item-content').find('p', class_='text-muted').find('span',class_='certificate')\n",
    "            if not Certificate:\n",
    "                certificate = ' '\n",
    "            else:\n",
    "                certificate = Certificate.get_text()\n",
    "            runtime = movies[index].find(class_='lister-item-content').find('span', class_='runtime').get_text()\n",
    "            genre = movies[index].find(class_='lister-item-content').find('span', class_='genre').get_text().rstrip()[1:]\n",
    "            rating = float(movies[index].find(class_='lister-item-content').find('strong').get_text())\n",
    "            Metascore = movies[index].find(class_='lister-item-content').find('span', class_='metascore favorable')\n",
    "            if not Metascore:\n",
    "                metascore = ' '\n",
    "            else:\n",
    "                metascore = int(Metascore.get_text().rstrip())\n",
    "            intro = movies[index].find(class_='lister-item-content').find_all('p', class_='text-muted')[1].get_text()[1:]\n",
    "            votes = int(movies[index].find(class_='lister-item-content').find('p', class_= 'sort-num_votes-visible').find_all('span')[1]['data-value'])\n",
    "            Gross = len(movies[index].find(class_='lister-item-content').find('p', class_= 'sort-num_votes-visible').find_all('span'))\n",
    "            if Gross == 5:\n",
    "                gross = int(''.join(movies[index].find(class_='lister-item-content').find('p', class_= 'sort-num_votes-visible').find_all('span')[-1]['data-value'].split(',')))\n",
    "            else:\n",
    "                gross = ' '\n",
    "            URL = 'https://imdb.com'+movies[index].find(class_='lister-item-content').find('h3', class_='lister-item-header').find('a', href = True, text=True)['href']\n",
    "            \n",
    "            sheet.append([rank, title, year, certificate, runtime, genre, rating, metascore, votes, gross, URL, intro])\n",
    "        excel.save('IMDb_database.xlsx')\n",
    "        last = requests.get(url)\n",
    "        last_soup = BeautifulSoup(last.content,'html.parser')\n",
    "        page = last_soup.find('div', class_='redesign').find_all(class_='desc')[0].find('a', class_='lister-page-next next-page') or 0\n",
    "        if not page:\n",
    "            url = 0\n",
    "            return True\n",
    "        else:\n",
    "            url = 'https://imdb.com'+last_soup.find('div', class_='redesign').find_all(class_='desc')[0].find('a', class_='lister-page-next next-page')['href']\n",
    "        "
   ]
  },
  {
   "cell_type": "code",
   "execution_count": 11,
   "metadata": {},
   "outputs": [
    {
     "data": {
      "text/plain": [
       "'https://imdb.com/search/title/?title_type=feature&num_votes=25000,&genres=action&sort=user_rating,desc&start=1550'"
      ]
     },
     "execution_count": 11,
     "metadata": {},
     "output_type": "execute_result"
    }
   ],
   "source": [
    "# If the page is the last page\n",
    "last2_url ='https://www.imdb.com/search/title/?title_type=feature&num_votes=25000,&genres=action&sort=user_rating,desc&start=1500&ref_=adv_prv'\n",
    "last2 = requests.get(last2_url)\n",
    "last2_soup = BeautifulSoup(last2.content, 'html.parser')\n",
    "page = last2_soup.find('div', class_='redesign').find_all(class_='desc')[0].find('a', class_='lister-page-next next-page') or 0\n",
    "if not page:\n",
    "    next_page = 0\n",
    "else:\n",
    "    next_page = 'https://imdb.com'+last2_soup.find('div', class_='redesign').find_all(class_='desc')[0].find('a', class_='lister-page-next next-page')['href']\n",
    "next_page"
   ]
  },
  {
   "cell_type": "code",
   "execution_count": 12,
   "metadata": {},
   "outputs": [
    {
     "data": {
      "text/plain": [
       "('Action',\n",
       " 'https://imdb.com/search/title?genres=action&sort=user_rating,desc&title_type=feature&num_votes=25000,')"
      ]
     },
     "execution_count": 12,
     "metadata": {},
     "output_type": "execute_result"
    }
   ],
   "source": [
    "len(genre_urls)\n",
    "genre_urls[0]"
   ]
  },
  {
   "cell_type": "code",
   "execution_count": 13,
   "metadata": {},
   "outputs": [
    {
     "data": {
      "text/plain": [
       "0"
      ]
     },
     "execution_count": 13,
     "metadata": {},
     "output_type": "execute_result"
    }
   ],
   "source": [
    "# Test the last page return 0\n",
    "last_url = 'https://www.imdb.com/search/title/?title_type=feature&num_votes=25000,&genres=action&sort=user_rating,desc&start=1550&ref_=adv_nxt'\n",
    "last = requests.get(last_url)\n",
    "last_soup = BeautifulSoup(last.content,'html.parser')\n",
    "page = last_soup.find('div', class_='redesign').find_all(class_='desc')[0].find('a', class_='lister-page-next next-page') or 0\n",
    "if not page:\n",
    "    next_page = 0\n",
    "else:\n",
    "    next_page = 'https://imdb.com'+last2_soup.find('div', class_='redesign').find_all(class_='desc')[0].find('a', class_='lister-page-next next-page')['href']\n",
    "next_page"
   ]
  },
  {
   "cell_type": "code",
   "execution_count": null,
   "metadata": {},
   "outputs": [],
   "source": [
    "# Start scrap!\n",
    "for i in range(21):\n",
    "    url = genre_urls[i][1]\n",
    "    print(genre_urls[i][0])\n",
    "    scrap(url)\n",
    "    time.sleep(5)"
   ]
  }
 ],
 "metadata": {
  "interpreter": {
   "hash": "90028c94590298b63d2bae6c0746a7e76a66c0c12a099857e1fe16e3285a4618"
  },
  "kernelspec": {
   "display_name": "Python 3.9.6 64-bit",
   "name": "python3"
  },
  "language_info": {
   "codemirror_mode": {
    "name": "ipython",
    "version": 3
   },
   "file_extension": ".py",
   "mimetype": "text/x-python",
   "name": "python",
   "nbconvert_exporter": "python",
   "pygments_lexer": "ipython3",
   "version": "3.9.7"
  },
  "orig_nbformat": 4
 },
 "nbformat": 4,
 "nbformat_minor": 2
}
